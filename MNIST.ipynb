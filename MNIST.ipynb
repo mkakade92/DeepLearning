{
  "nbformat": 4,
  "nbformat_minor": 0,
  "metadata": {
    "colab": {
      "name": "MNIST.ipynb",
      "provenance": [],
      "authorship_tag": "ABX9TyNk+sbj5SGhI5cRepTU+agz",
      "include_colab_link": true
    },
    "kernelspec": {
      "name": "python3",
      "display_name": "Python 3"
    },
    "accelerator": "GPU",
    "widgets": {
      "application/vnd.jupyter.widget-state+json": {
        "9f59e27463f0417797a3dc348cfc709c": {
          "model_module": "@jupyter-widgets/controls",
          "model_name": "HBoxModel",
          "state": {
            "_view_name": "HBoxView",
            "_dom_classes": [],
            "_model_name": "HBoxModel",
            "_view_module": "@jupyter-widgets/controls",
            "_model_module_version": "1.5.0",
            "_view_count": null,
            "_view_module_version": "1.5.0",
            "box_style": "",
            "layout": "IPY_MODEL_098f4669b2844428ab8a28b6be482839",
            "_model_module": "@jupyter-widgets/controls",
            "children": [
              "IPY_MODEL_6dffc157fd824ec1af667076f37f0fa6",
              "IPY_MODEL_41c3835e034941a39e9905a3eec55b1c"
            ]
          }
        },
        "098f4669b2844428ab8a28b6be482839": {
          "model_module": "@jupyter-widgets/base",
          "model_name": "LayoutModel",
          "state": {
            "_view_name": "LayoutView",
            "grid_template_rows": null,
            "right": null,
            "justify_content": null,
            "_view_module": "@jupyter-widgets/base",
            "overflow": null,
            "_model_module_version": "1.2.0",
            "_view_count": null,
            "flex_flow": null,
            "width": null,
            "min_width": null,
            "border": null,
            "align_items": null,
            "bottom": null,
            "_model_module": "@jupyter-widgets/base",
            "top": null,
            "grid_column": null,
            "overflow_y": null,
            "overflow_x": null,
            "grid_auto_flow": null,
            "grid_area": null,
            "grid_template_columns": null,
            "flex": null,
            "_model_name": "LayoutModel",
            "justify_items": null,
            "grid_row": null,
            "max_height": null,
            "align_content": null,
            "visibility": null,
            "align_self": null,
            "height": null,
            "min_height": null,
            "padding": null,
            "grid_auto_rows": null,
            "grid_gap": null,
            "max_width": null,
            "order": null,
            "_view_module_version": "1.2.0",
            "grid_template_areas": null,
            "object_position": null,
            "object_fit": null,
            "grid_auto_columns": null,
            "margin": null,
            "display": null,
            "left": null
          }
        },
        "6dffc157fd824ec1af667076f37f0fa6": {
          "model_module": "@jupyter-widgets/controls",
          "model_name": "IntProgressModel",
          "state": {
            "_view_name": "ProgressView",
            "style": "IPY_MODEL_be35874428074c7098a2acb565564c8c",
            "_dom_classes": [],
            "description": "",
            "_model_name": "IntProgressModel",
            "bar_style": "success",
            "max": 1,
            "_view_module": "@jupyter-widgets/controls",
            "_model_module_version": "1.5.0",
            "value": 1,
            "_view_count": null,
            "_view_module_version": "1.5.0",
            "orientation": "horizontal",
            "min": 0,
            "description_tooltip": null,
            "_model_module": "@jupyter-widgets/controls",
            "layout": "IPY_MODEL_4aa0015ed1204752917dbf810587143d"
          }
        },
        "41c3835e034941a39e9905a3eec55b1c": {
          "model_module": "@jupyter-widgets/controls",
          "model_name": "HTMLModel",
          "state": {
            "_view_name": "HTMLView",
            "style": "IPY_MODEL_c570b1a845554af1a5f7c7cc1ceb9a0b",
            "_dom_classes": [],
            "description": "",
            "_model_name": "HTMLModel",
            "placeholder": "​",
            "_view_module": "@jupyter-widgets/controls",
            "_model_module_version": "1.5.0",
            "value": "9920512it [00:03, 3142254.52it/s]",
            "_view_count": null,
            "_view_module_version": "1.5.0",
            "description_tooltip": null,
            "_model_module": "@jupyter-widgets/controls",
            "layout": "IPY_MODEL_a382b3ab7d814d82a06cd89a358b905f"
          }
        },
        "be35874428074c7098a2acb565564c8c": {
          "model_module": "@jupyter-widgets/controls",
          "model_name": "ProgressStyleModel",
          "state": {
            "_view_name": "StyleView",
            "_model_name": "ProgressStyleModel",
            "description_width": "",
            "_view_module": "@jupyter-widgets/base",
            "_model_module_version": "1.5.0",
            "_view_count": null,
            "_view_module_version": "1.2.0",
            "bar_color": null,
            "_model_module": "@jupyter-widgets/controls"
          }
        },
        "4aa0015ed1204752917dbf810587143d": {
          "model_module": "@jupyter-widgets/base",
          "model_name": "LayoutModel",
          "state": {
            "_view_name": "LayoutView",
            "grid_template_rows": null,
            "right": null,
            "justify_content": null,
            "_view_module": "@jupyter-widgets/base",
            "overflow": null,
            "_model_module_version": "1.2.0",
            "_view_count": null,
            "flex_flow": null,
            "width": null,
            "min_width": null,
            "border": null,
            "align_items": null,
            "bottom": null,
            "_model_module": "@jupyter-widgets/base",
            "top": null,
            "grid_column": null,
            "overflow_y": null,
            "overflow_x": null,
            "grid_auto_flow": null,
            "grid_area": null,
            "grid_template_columns": null,
            "flex": null,
            "_model_name": "LayoutModel",
            "justify_items": null,
            "grid_row": null,
            "max_height": null,
            "align_content": null,
            "visibility": null,
            "align_self": null,
            "height": null,
            "min_height": null,
            "padding": null,
            "grid_auto_rows": null,
            "grid_gap": null,
            "max_width": null,
            "order": null,
            "_view_module_version": "1.2.0",
            "grid_template_areas": null,
            "object_position": null,
            "object_fit": null,
            "grid_auto_columns": null,
            "margin": null,
            "display": null,
            "left": null
          }
        },
        "c570b1a845554af1a5f7c7cc1ceb9a0b": {
          "model_module": "@jupyter-widgets/controls",
          "model_name": "DescriptionStyleModel",
          "state": {
            "_view_name": "StyleView",
            "_model_name": "DescriptionStyleModel",
            "description_width": "",
            "_view_module": "@jupyter-widgets/base",
            "_model_module_version": "1.5.0",
            "_view_count": null,
            "_view_module_version": "1.2.0",
            "_model_module": "@jupyter-widgets/controls"
          }
        },
        "a382b3ab7d814d82a06cd89a358b905f": {
          "model_module": "@jupyter-widgets/base",
          "model_name": "LayoutModel",
          "state": {
            "_view_name": "LayoutView",
            "grid_template_rows": null,
            "right": null,
            "justify_content": null,
            "_view_module": "@jupyter-widgets/base",
            "overflow": null,
            "_model_module_version": "1.2.0",
            "_view_count": null,
            "flex_flow": null,
            "width": null,
            "min_width": null,
            "border": null,
            "align_items": null,
            "bottom": null,
            "_model_module": "@jupyter-widgets/base",
            "top": null,
            "grid_column": null,
            "overflow_y": null,
            "overflow_x": null,
            "grid_auto_flow": null,
            "grid_area": null,
            "grid_template_columns": null,
            "flex": null,
            "_model_name": "LayoutModel",
            "justify_items": null,
            "grid_row": null,
            "max_height": null,
            "align_content": null,
            "visibility": null,
            "align_self": null,
            "height": null,
            "min_height": null,
            "padding": null,
            "grid_auto_rows": null,
            "grid_gap": null,
            "max_width": null,
            "order": null,
            "_view_module_version": "1.2.0",
            "grid_template_areas": null,
            "object_position": null,
            "object_fit": null,
            "grid_auto_columns": null,
            "margin": null,
            "display": null,
            "left": null
          }
        },
        "2956c09d71fb45ae8a4b0fe1bf3e9c45": {
          "model_module": "@jupyter-widgets/controls",
          "model_name": "HBoxModel",
          "state": {
            "_view_name": "HBoxView",
            "_dom_classes": [],
            "_model_name": "HBoxModel",
            "_view_module": "@jupyter-widgets/controls",
            "_model_module_version": "1.5.0",
            "_view_count": null,
            "_view_module_version": "1.5.0",
            "box_style": "",
            "layout": "IPY_MODEL_b5ac5b1f7a7947b8a1b7aa70e1366cd3",
            "_model_module": "@jupyter-widgets/controls",
            "children": [
              "IPY_MODEL_35c867e1bfb64ede91dbcedb2f43f8ef",
              "IPY_MODEL_3dee49786a3940d7933ac01367531ed0"
            ]
          }
        },
        "b5ac5b1f7a7947b8a1b7aa70e1366cd3": {
          "model_module": "@jupyter-widgets/base",
          "model_name": "LayoutModel",
          "state": {
            "_view_name": "LayoutView",
            "grid_template_rows": null,
            "right": null,
            "justify_content": null,
            "_view_module": "@jupyter-widgets/base",
            "overflow": null,
            "_model_module_version": "1.2.0",
            "_view_count": null,
            "flex_flow": null,
            "width": null,
            "min_width": null,
            "border": null,
            "align_items": null,
            "bottom": null,
            "_model_module": "@jupyter-widgets/base",
            "top": null,
            "grid_column": null,
            "overflow_y": null,
            "overflow_x": null,
            "grid_auto_flow": null,
            "grid_area": null,
            "grid_template_columns": null,
            "flex": null,
            "_model_name": "LayoutModel",
            "justify_items": null,
            "grid_row": null,
            "max_height": null,
            "align_content": null,
            "visibility": null,
            "align_self": null,
            "height": null,
            "min_height": null,
            "padding": null,
            "grid_auto_rows": null,
            "grid_gap": null,
            "max_width": null,
            "order": null,
            "_view_module_version": "1.2.0",
            "grid_template_areas": null,
            "object_position": null,
            "object_fit": null,
            "grid_auto_columns": null,
            "margin": null,
            "display": null,
            "left": null
          }
        },
        "35c867e1bfb64ede91dbcedb2f43f8ef": {
          "model_module": "@jupyter-widgets/controls",
          "model_name": "IntProgressModel",
          "state": {
            "_view_name": "ProgressView",
            "style": "IPY_MODEL_c1f57902425141e6973a96fa10d4414a",
            "_dom_classes": [],
            "description": "",
            "_model_name": "IntProgressModel",
            "bar_style": "success",
            "max": 1,
            "_view_module": "@jupyter-widgets/controls",
            "_model_module_version": "1.5.0",
            "value": 1,
            "_view_count": null,
            "_view_module_version": "1.5.0",
            "orientation": "horizontal",
            "min": 0,
            "description_tooltip": null,
            "_model_module": "@jupyter-widgets/controls",
            "layout": "IPY_MODEL_566bfc24e024473382061cff62842484"
          }
        },
        "3dee49786a3940d7933ac01367531ed0": {
          "model_module": "@jupyter-widgets/controls",
          "model_name": "HTMLModel",
          "state": {
            "_view_name": "HTMLView",
            "style": "IPY_MODEL_d50efb7e23684708887cdcf7228226aa",
            "_dom_classes": [],
            "description": "",
            "_model_name": "HTMLModel",
            "placeholder": "​",
            "_view_module": "@jupyter-widgets/controls",
            "_model_module_version": "1.5.0",
            "value": "32768it [00:00, 35174.77it/s]",
            "_view_count": null,
            "_view_module_version": "1.5.0",
            "description_tooltip": null,
            "_model_module": "@jupyter-widgets/controls",
            "layout": "IPY_MODEL_10d259e6f9d34774806b0b8be5d712e0"
          }
        },
        "c1f57902425141e6973a96fa10d4414a": {
          "model_module": "@jupyter-widgets/controls",
          "model_name": "ProgressStyleModel",
          "state": {
            "_view_name": "StyleView",
            "_model_name": "ProgressStyleModel",
            "description_width": "",
            "_view_module": "@jupyter-widgets/base",
            "_model_module_version": "1.5.0",
            "_view_count": null,
            "_view_module_version": "1.2.0",
            "bar_color": null,
            "_model_module": "@jupyter-widgets/controls"
          }
        },
        "566bfc24e024473382061cff62842484": {
          "model_module": "@jupyter-widgets/base",
          "model_name": "LayoutModel",
          "state": {
            "_view_name": "LayoutView",
            "grid_template_rows": null,
            "right": null,
            "justify_content": null,
            "_view_module": "@jupyter-widgets/base",
            "overflow": null,
            "_model_module_version": "1.2.0",
            "_view_count": null,
            "flex_flow": null,
            "width": null,
            "min_width": null,
            "border": null,
            "align_items": null,
            "bottom": null,
            "_model_module": "@jupyter-widgets/base",
            "top": null,
            "grid_column": null,
            "overflow_y": null,
            "overflow_x": null,
            "grid_auto_flow": null,
            "grid_area": null,
            "grid_template_columns": null,
            "flex": null,
            "_model_name": "LayoutModel",
            "justify_items": null,
            "grid_row": null,
            "max_height": null,
            "align_content": null,
            "visibility": null,
            "align_self": null,
            "height": null,
            "min_height": null,
            "padding": null,
            "grid_auto_rows": null,
            "grid_gap": null,
            "max_width": null,
            "order": null,
            "_view_module_version": "1.2.0",
            "grid_template_areas": null,
            "object_position": null,
            "object_fit": null,
            "grid_auto_columns": null,
            "margin": null,
            "display": null,
            "left": null
          }
        },
        "d50efb7e23684708887cdcf7228226aa": {
          "model_module": "@jupyter-widgets/controls",
          "model_name": "DescriptionStyleModel",
          "state": {
            "_view_name": "StyleView",
            "_model_name": "DescriptionStyleModel",
            "description_width": "",
            "_view_module": "@jupyter-widgets/base",
            "_model_module_version": "1.5.0",
            "_view_count": null,
            "_view_module_version": "1.2.0",
            "_model_module": "@jupyter-widgets/controls"
          }
        },
        "10d259e6f9d34774806b0b8be5d712e0": {
          "model_module": "@jupyter-widgets/base",
          "model_name": "LayoutModel",
          "state": {
            "_view_name": "LayoutView",
            "grid_template_rows": null,
            "right": null,
            "justify_content": null,
            "_view_module": "@jupyter-widgets/base",
            "overflow": null,
            "_model_module_version": "1.2.0",
            "_view_count": null,
            "flex_flow": null,
            "width": null,
            "min_width": null,
            "border": null,
            "align_items": null,
            "bottom": null,
            "_model_module": "@jupyter-widgets/base",
            "top": null,
            "grid_column": null,
            "overflow_y": null,
            "overflow_x": null,
            "grid_auto_flow": null,
            "grid_area": null,
            "grid_template_columns": null,
            "flex": null,
            "_model_name": "LayoutModel",
            "justify_items": null,
            "grid_row": null,
            "max_height": null,
            "align_content": null,
            "visibility": null,
            "align_self": null,
            "height": null,
            "min_height": null,
            "padding": null,
            "grid_auto_rows": null,
            "grid_gap": null,
            "max_width": null,
            "order": null,
            "_view_module_version": "1.2.0",
            "grid_template_areas": null,
            "object_position": null,
            "object_fit": null,
            "grid_auto_columns": null,
            "margin": null,
            "display": null,
            "left": null
          }
        },
        "2553ee1dd08149c39c2aa9f3b8273c02": {
          "model_module": "@jupyter-widgets/controls",
          "model_name": "HBoxModel",
          "state": {
            "_view_name": "HBoxView",
            "_dom_classes": [],
            "_model_name": "HBoxModel",
            "_view_module": "@jupyter-widgets/controls",
            "_model_module_version": "1.5.0",
            "_view_count": null,
            "_view_module_version": "1.5.0",
            "box_style": "",
            "layout": "IPY_MODEL_8c647ff223674a14ab774b6a4b2952b4",
            "_model_module": "@jupyter-widgets/controls",
            "children": [
              "IPY_MODEL_5442210db6be4dde9e5fb65d733f3b75",
              "IPY_MODEL_8eaabf5a6dd0497fabce64cbef5a2d3f"
            ]
          }
        },
        "8c647ff223674a14ab774b6a4b2952b4": {
          "model_module": "@jupyter-widgets/base",
          "model_name": "LayoutModel",
          "state": {
            "_view_name": "LayoutView",
            "grid_template_rows": null,
            "right": null,
            "justify_content": null,
            "_view_module": "@jupyter-widgets/base",
            "overflow": null,
            "_model_module_version": "1.2.0",
            "_view_count": null,
            "flex_flow": null,
            "width": null,
            "min_width": null,
            "border": null,
            "align_items": null,
            "bottom": null,
            "_model_module": "@jupyter-widgets/base",
            "top": null,
            "grid_column": null,
            "overflow_y": null,
            "overflow_x": null,
            "grid_auto_flow": null,
            "grid_area": null,
            "grid_template_columns": null,
            "flex": null,
            "_model_name": "LayoutModel",
            "justify_items": null,
            "grid_row": null,
            "max_height": null,
            "align_content": null,
            "visibility": null,
            "align_self": null,
            "height": null,
            "min_height": null,
            "padding": null,
            "grid_auto_rows": null,
            "grid_gap": null,
            "max_width": null,
            "order": null,
            "_view_module_version": "1.2.0",
            "grid_template_areas": null,
            "object_position": null,
            "object_fit": null,
            "grid_auto_columns": null,
            "margin": null,
            "display": null,
            "left": null
          }
        },
        "5442210db6be4dde9e5fb65d733f3b75": {
          "model_module": "@jupyter-widgets/controls",
          "model_name": "IntProgressModel",
          "state": {
            "_view_name": "ProgressView",
            "style": "IPY_MODEL_822c5035a20846f292740d64ff033ec2",
            "_dom_classes": [],
            "description": "",
            "_model_name": "IntProgressModel",
            "bar_style": "success",
            "max": 1,
            "_view_module": "@jupyter-widgets/controls",
            "_model_module_version": "1.5.0",
            "value": 1,
            "_view_count": null,
            "_view_module_version": "1.5.0",
            "orientation": "horizontal",
            "min": 0,
            "description_tooltip": null,
            "_model_module": "@jupyter-widgets/controls",
            "layout": "IPY_MODEL_16853a1ec5674b1cab6910614ecc09dd"
          }
        },
        "8eaabf5a6dd0497fabce64cbef5a2d3f": {
          "model_module": "@jupyter-widgets/controls",
          "model_name": "HTMLModel",
          "state": {
            "_view_name": "HTMLView",
            "style": "IPY_MODEL_36a6bdcfa78e44ec8e1c50b2cf12406d",
            "_dom_classes": [],
            "description": "",
            "_model_name": "HTMLModel",
            "placeholder": "​",
            "_view_module": "@jupyter-widgets/controls",
            "_model_module_version": "1.5.0",
            "value": "1654784it [00:02, 707553.32it/s]",
            "_view_count": null,
            "_view_module_version": "1.5.0",
            "description_tooltip": null,
            "_model_module": "@jupyter-widgets/controls",
            "layout": "IPY_MODEL_21ee1de6f6a74da5b8ec9f6a7d6bfd2b"
          }
        },
        "822c5035a20846f292740d64ff033ec2": {
          "model_module": "@jupyter-widgets/controls",
          "model_name": "ProgressStyleModel",
          "state": {
            "_view_name": "StyleView",
            "_model_name": "ProgressStyleModel",
            "description_width": "",
            "_view_module": "@jupyter-widgets/base",
            "_model_module_version": "1.5.0",
            "_view_count": null,
            "_view_module_version": "1.2.0",
            "bar_color": null,
            "_model_module": "@jupyter-widgets/controls"
          }
        },
        "16853a1ec5674b1cab6910614ecc09dd": {
          "model_module": "@jupyter-widgets/base",
          "model_name": "LayoutModel",
          "state": {
            "_view_name": "LayoutView",
            "grid_template_rows": null,
            "right": null,
            "justify_content": null,
            "_view_module": "@jupyter-widgets/base",
            "overflow": null,
            "_model_module_version": "1.2.0",
            "_view_count": null,
            "flex_flow": null,
            "width": null,
            "min_width": null,
            "border": null,
            "align_items": null,
            "bottom": null,
            "_model_module": "@jupyter-widgets/base",
            "top": null,
            "grid_column": null,
            "overflow_y": null,
            "overflow_x": null,
            "grid_auto_flow": null,
            "grid_area": null,
            "grid_template_columns": null,
            "flex": null,
            "_model_name": "LayoutModel",
            "justify_items": null,
            "grid_row": null,
            "max_height": null,
            "align_content": null,
            "visibility": null,
            "align_self": null,
            "height": null,
            "min_height": null,
            "padding": null,
            "grid_auto_rows": null,
            "grid_gap": null,
            "max_width": null,
            "order": null,
            "_view_module_version": "1.2.0",
            "grid_template_areas": null,
            "object_position": null,
            "object_fit": null,
            "grid_auto_columns": null,
            "margin": null,
            "display": null,
            "left": null
          }
        },
        "36a6bdcfa78e44ec8e1c50b2cf12406d": {
          "model_module": "@jupyter-widgets/controls",
          "model_name": "DescriptionStyleModel",
          "state": {
            "_view_name": "StyleView",
            "_model_name": "DescriptionStyleModel",
            "description_width": "",
            "_view_module": "@jupyter-widgets/base",
            "_model_module_version": "1.5.0",
            "_view_count": null,
            "_view_module_version": "1.2.0",
            "_model_module": "@jupyter-widgets/controls"
          }
        },
        "21ee1de6f6a74da5b8ec9f6a7d6bfd2b": {
          "model_module": "@jupyter-widgets/base",
          "model_name": "LayoutModel",
          "state": {
            "_view_name": "LayoutView",
            "grid_template_rows": null,
            "right": null,
            "justify_content": null,
            "_view_module": "@jupyter-widgets/base",
            "overflow": null,
            "_model_module_version": "1.2.0",
            "_view_count": null,
            "flex_flow": null,
            "width": null,
            "min_width": null,
            "border": null,
            "align_items": null,
            "bottom": null,
            "_model_module": "@jupyter-widgets/base",
            "top": null,
            "grid_column": null,
            "overflow_y": null,
            "overflow_x": null,
            "grid_auto_flow": null,
            "grid_area": null,
            "grid_template_columns": null,
            "flex": null,
            "_model_name": "LayoutModel",
            "justify_items": null,
            "grid_row": null,
            "max_height": null,
            "align_content": null,
            "visibility": null,
            "align_self": null,
            "height": null,
            "min_height": null,
            "padding": null,
            "grid_auto_rows": null,
            "grid_gap": null,
            "max_width": null,
            "order": null,
            "_view_module_version": "1.2.0",
            "grid_template_areas": null,
            "object_position": null,
            "object_fit": null,
            "grid_auto_columns": null,
            "margin": null,
            "display": null,
            "left": null
          }
        },
        "a534882db836419a8c7e75859c42b274": {
          "model_module": "@jupyter-widgets/controls",
          "model_name": "HBoxModel",
          "state": {
            "_view_name": "HBoxView",
            "_dom_classes": [],
            "_model_name": "HBoxModel",
            "_view_module": "@jupyter-widgets/controls",
            "_model_module_version": "1.5.0",
            "_view_count": null,
            "_view_module_version": "1.5.0",
            "box_style": "",
            "layout": "IPY_MODEL_6e9c01653fa84adb916affdee09cde22",
            "_model_module": "@jupyter-widgets/controls",
            "children": [
              "IPY_MODEL_79d89d306fc2410c966100d8a7459661",
              "IPY_MODEL_3b9d3d7e086649d8aefeb3aa9c7eae53"
            ]
          }
        },
        "6e9c01653fa84adb916affdee09cde22": {
          "model_module": "@jupyter-widgets/base",
          "model_name": "LayoutModel",
          "state": {
            "_view_name": "LayoutView",
            "grid_template_rows": null,
            "right": null,
            "justify_content": null,
            "_view_module": "@jupyter-widgets/base",
            "overflow": null,
            "_model_module_version": "1.2.0",
            "_view_count": null,
            "flex_flow": null,
            "width": null,
            "min_width": null,
            "border": null,
            "align_items": null,
            "bottom": null,
            "_model_module": "@jupyter-widgets/base",
            "top": null,
            "grid_column": null,
            "overflow_y": null,
            "overflow_x": null,
            "grid_auto_flow": null,
            "grid_area": null,
            "grid_template_columns": null,
            "flex": null,
            "_model_name": "LayoutModel",
            "justify_items": null,
            "grid_row": null,
            "max_height": null,
            "align_content": null,
            "visibility": null,
            "align_self": null,
            "height": null,
            "min_height": null,
            "padding": null,
            "grid_auto_rows": null,
            "grid_gap": null,
            "max_width": null,
            "order": null,
            "_view_module_version": "1.2.0",
            "grid_template_areas": null,
            "object_position": null,
            "object_fit": null,
            "grid_auto_columns": null,
            "margin": null,
            "display": null,
            "left": null
          }
        },
        "79d89d306fc2410c966100d8a7459661": {
          "model_module": "@jupyter-widgets/controls",
          "model_name": "IntProgressModel",
          "state": {
            "_view_name": "ProgressView",
            "style": "IPY_MODEL_33d8e646e67148bd9ef47ad29b9155cc",
            "_dom_classes": [],
            "description": "",
            "_model_name": "IntProgressModel",
            "bar_style": "success",
            "max": 1,
            "_view_module": "@jupyter-widgets/controls",
            "_model_module_version": "1.5.0",
            "value": 1,
            "_view_count": null,
            "_view_module_version": "1.5.0",
            "orientation": "horizontal",
            "min": 0,
            "description_tooltip": null,
            "_model_module": "@jupyter-widgets/controls",
            "layout": "IPY_MODEL_e70d32f1f0854f03bed8c5a53d204891"
          }
        },
        "3b9d3d7e086649d8aefeb3aa9c7eae53": {
          "model_module": "@jupyter-widgets/controls",
          "model_name": "HTMLModel",
          "state": {
            "_view_name": "HTMLView",
            "style": "IPY_MODEL_f5ea4ecc555f44a18291e2ce1df719ba",
            "_dom_classes": [],
            "description": "",
            "_model_name": "HTMLModel",
            "placeholder": "​",
            "_view_module": "@jupyter-widgets/controls",
            "_model_module_version": "1.5.0",
            "value": "8192it [00:00, 11259.97it/s]",
            "_view_count": null,
            "_view_module_version": "1.5.0",
            "description_tooltip": null,
            "_model_module": "@jupyter-widgets/controls",
            "layout": "IPY_MODEL_6bc520515e8d409da914993236fbfbaf"
          }
        },
        "33d8e646e67148bd9ef47ad29b9155cc": {
          "model_module": "@jupyter-widgets/controls",
          "model_name": "ProgressStyleModel",
          "state": {
            "_view_name": "StyleView",
            "_model_name": "ProgressStyleModel",
            "description_width": "",
            "_view_module": "@jupyter-widgets/base",
            "_model_module_version": "1.5.0",
            "_view_count": null,
            "_view_module_version": "1.2.0",
            "bar_color": null,
            "_model_module": "@jupyter-widgets/controls"
          }
        },
        "e70d32f1f0854f03bed8c5a53d204891": {
          "model_module": "@jupyter-widgets/base",
          "model_name": "LayoutModel",
          "state": {
            "_view_name": "LayoutView",
            "grid_template_rows": null,
            "right": null,
            "justify_content": null,
            "_view_module": "@jupyter-widgets/base",
            "overflow": null,
            "_model_module_version": "1.2.0",
            "_view_count": null,
            "flex_flow": null,
            "width": null,
            "min_width": null,
            "border": null,
            "align_items": null,
            "bottom": null,
            "_model_module": "@jupyter-widgets/base",
            "top": null,
            "grid_column": null,
            "overflow_y": null,
            "overflow_x": null,
            "grid_auto_flow": null,
            "grid_area": null,
            "grid_template_columns": null,
            "flex": null,
            "_model_name": "LayoutModel",
            "justify_items": null,
            "grid_row": null,
            "max_height": null,
            "align_content": null,
            "visibility": null,
            "align_self": null,
            "height": null,
            "min_height": null,
            "padding": null,
            "grid_auto_rows": null,
            "grid_gap": null,
            "max_width": null,
            "order": null,
            "_view_module_version": "1.2.0",
            "grid_template_areas": null,
            "object_position": null,
            "object_fit": null,
            "grid_auto_columns": null,
            "margin": null,
            "display": null,
            "left": null
          }
        },
        "f5ea4ecc555f44a18291e2ce1df719ba": {
          "model_module": "@jupyter-widgets/controls",
          "model_name": "DescriptionStyleModel",
          "state": {
            "_view_name": "StyleView",
            "_model_name": "DescriptionStyleModel",
            "description_width": "",
            "_view_module": "@jupyter-widgets/base",
            "_model_module_version": "1.5.0",
            "_view_count": null,
            "_view_module_version": "1.2.0",
            "_model_module": "@jupyter-widgets/controls"
          }
        },
        "6bc520515e8d409da914993236fbfbaf": {
          "model_module": "@jupyter-widgets/base",
          "model_name": "LayoutModel",
          "state": {
            "_view_name": "LayoutView",
            "grid_template_rows": null,
            "right": null,
            "justify_content": null,
            "_view_module": "@jupyter-widgets/base",
            "overflow": null,
            "_model_module_version": "1.2.0",
            "_view_count": null,
            "flex_flow": null,
            "width": null,
            "min_width": null,
            "border": null,
            "align_items": null,
            "bottom": null,
            "_model_module": "@jupyter-widgets/base",
            "top": null,
            "grid_column": null,
            "overflow_y": null,
            "overflow_x": null,
            "grid_auto_flow": null,
            "grid_area": null,
            "grid_template_columns": null,
            "flex": null,
            "_model_name": "LayoutModel",
            "justify_items": null,
            "grid_row": null,
            "max_height": null,
            "align_content": null,
            "visibility": null,
            "align_self": null,
            "height": null,
            "min_height": null,
            "padding": null,
            "grid_auto_rows": null,
            "grid_gap": null,
            "max_width": null,
            "order": null,
            "_view_module_version": "1.2.0",
            "grid_template_areas": null,
            "object_position": null,
            "object_fit": null,
            "grid_auto_columns": null,
            "margin": null,
            "display": null,
            "left": null
          }
        }
      }
    }
  },
  "cells": [
    {
      "cell_type": "markdown",
      "metadata": {
        "id": "view-in-github",
        "colab_type": "text"
      },
      "source": [
        "<a href=\"https://colab.research.google.com/github/mkakade92/DeepLearning/blob/master/MNIST.ipynb\" target=\"_parent\"><img src=\"https://colab.research.google.com/assets/colab-badge.svg\" alt=\"Open In Colab\"/></a>"
      ]
    },
    {
      "cell_type": "code",
      "metadata": {
        "id": "mgECNC5snoB8",
        "colab_type": "code",
        "colab": {}
      },
      "source": [
        "import torch\n",
        "import torchvision"
      ],
      "execution_count": 0,
      "outputs": []
    },
    {
      "cell_type": "code",
      "metadata": {
        "id": "2DGqCP6Vnxzc",
        "colab_type": "code",
        "outputId": "8a28bf80-ac05-48e7-f1f2-6ee61c9186c3",
        "colab": {
          "base_uri": "https://localhost:8080/",
          "height": 34
        }
      },
      "source": [
        "n_epochs = 3\n",
        "batch_size_train = 64\n",
        "batch_size_test = 1000\n",
        "learning_rate = 0.01\n",
        "momentum = 0.5\n",
        "log_interval = 10\n",
        "\n",
        "random_seed = 1\n",
        "torch.backends.cudnn.enabled = False\n",
        "torch.manual_seed(random_seed)"
      ],
      "execution_count": 2,
      "outputs": [
        {
          "output_type": "execute_result",
          "data": {
            "text/plain": [
              "<torch._C.Generator at 0x7f20ceb2eb30>"
            ]
          },
          "metadata": {
            "tags": []
          },
          "execution_count": 2
        }
      ]
    },
    {
      "cell_type": "code",
      "metadata": {
        "id": "xmUqFgmWn26M",
        "colab_type": "code",
        "outputId": "c7552d1b-e341-4402-d346-13b827869e72",
        "colab": {
          "base_uri": "https://localhost:8080/",
          "height": 388,
          "referenced_widgets": [
            "9f59e27463f0417797a3dc348cfc709c",
            "098f4669b2844428ab8a28b6be482839",
            "6dffc157fd824ec1af667076f37f0fa6",
            "41c3835e034941a39e9905a3eec55b1c",
            "be35874428074c7098a2acb565564c8c",
            "4aa0015ed1204752917dbf810587143d",
            "c570b1a845554af1a5f7c7cc1ceb9a0b",
            "a382b3ab7d814d82a06cd89a358b905f",
            "2956c09d71fb45ae8a4b0fe1bf3e9c45",
            "b5ac5b1f7a7947b8a1b7aa70e1366cd3",
            "35c867e1bfb64ede91dbcedb2f43f8ef",
            "3dee49786a3940d7933ac01367531ed0",
            "c1f57902425141e6973a96fa10d4414a",
            "566bfc24e024473382061cff62842484",
            "d50efb7e23684708887cdcf7228226aa",
            "10d259e6f9d34774806b0b8be5d712e0",
            "2553ee1dd08149c39c2aa9f3b8273c02",
            "8c647ff223674a14ab774b6a4b2952b4",
            "5442210db6be4dde9e5fb65d733f3b75",
            "8eaabf5a6dd0497fabce64cbef5a2d3f",
            "822c5035a20846f292740d64ff033ec2",
            "16853a1ec5674b1cab6910614ecc09dd",
            "36a6bdcfa78e44ec8e1c50b2cf12406d",
            "21ee1de6f6a74da5b8ec9f6a7d6bfd2b",
            "a534882db836419a8c7e75859c42b274",
            "6e9c01653fa84adb916affdee09cde22",
            "79d89d306fc2410c966100d8a7459661",
            "3b9d3d7e086649d8aefeb3aa9c7eae53",
            "33d8e646e67148bd9ef47ad29b9155cc",
            "e70d32f1f0854f03bed8c5a53d204891",
            "f5ea4ecc555f44a18291e2ce1df719ba",
            "6bc520515e8d409da914993236fbfbaf"
          ]
        }
      },
      "source": [
        "train_loader = torch.utils.data.DataLoader(\n",
        "  torchvision.datasets.MNIST('/files/', train=True, download=True,\n",
        "                             transform=torchvision.transforms.Compose([\n",
        "                               torchvision.transforms.ToTensor(),\n",
        "                               torchvision.transforms.Normalize(\n",
        "                                 (0.1307,), (0.3081,))\n",
        "                             ])),\n",
        "  batch_size=batch_size_train, shuffle=True)\n",
        "\n",
        "test_loader = torch.utils.data.DataLoader(\n",
        "  torchvision.datasets.MNIST('/files/', train=False, download=True,\n",
        "                             transform=torchvision.transforms.Compose([\n",
        "                               torchvision.transforms.ToTensor(),\n",
        "                               torchvision.transforms.Normalize(\n",
        "                                 (0.1307,), (0.3081,))\n",
        "                             ])),\n",
        "  batch_size=batch_size_test, shuffle=True)"
      ],
      "execution_count": 3,
      "outputs": [
        {
          "output_type": "stream",
          "text": [
            "Downloading http://yann.lecun.com/exdb/mnist/train-images-idx3-ubyte.gz to /files/MNIST/raw/train-images-idx3-ubyte.gz\n"
          ],
          "name": "stdout"
        },
        {
          "output_type": "display_data",
          "data": {
            "application/vnd.jupyter.widget-view+json": {
              "model_id": "9f59e27463f0417797a3dc348cfc709c",
              "version_minor": 0,
              "version_major": 2
            },
            "text/plain": [
              "HBox(children=(IntProgress(value=1, bar_style='info', max=1), HTML(value='')))"
            ]
          },
          "metadata": {
            "tags": []
          }
        },
        {
          "output_type": "stream",
          "text": [
            "\n",
            "Extracting /files/MNIST/raw/train-images-idx3-ubyte.gz to /files/MNIST/raw\n",
            "Downloading http://yann.lecun.com/exdb/mnist/train-labels-idx1-ubyte.gz to /files/MNIST/raw/train-labels-idx1-ubyte.gz\n"
          ],
          "name": "stdout"
        },
        {
          "output_type": "display_data",
          "data": {
            "application/vnd.jupyter.widget-view+json": {
              "model_id": "2956c09d71fb45ae8a4b0fe1bf3e9c45",
              "version_minor": 0,
              "version_major": 2
            },
            "text/plain": [
              "HBox(children=(IntProgress(value=1, bar_style='info', max=1), HTML(value='')))"
            ]
          },
          "metadata": {
            "tags": []
          }
        },
        {
          "output_type": "stream",
          "text": [
            "\n",
            "Extracting /files/MNIST/raw/train-labels-idx1-ubyte.gz to /files/MNIST/raw\n",
            "Downloading http://yann.lecun.com/exdb/mnist/t10k-images-idx3-ubyte.gz to /files/MNIST/raw/t10k-images-idx3-ubyte.gz\n"
          ],
          "name": "stdout"
        },
        {
          "output_type": "display_data",
          "data": {
            "application/vnd.jupyter.widget-view+json": {
              "model_id": "2553ee1dd08149c39c2aa9f3b8273c02",
              "version_minor": 0,
              "version_major": 2
            },
            "text/plain": [
              "HBox(children=(IntProgress(value=1, bar_style='info', max=1), HTML(value='')))"
            ]
          },
          "metadata": {
            "tags": []
          }
        },
        {
          "output_type": "stream",
          "text": [
            "\n",
            "Extracting /files/MNIST/raw/t10k-images-idx3-ubyte.gz to /files/MNIST/raw\n",
            "Downloading http://yann.lecun.com/exdb/mnist/t10k-labels-idx1-ubyte.gz to /files/MNIST/raw/t10k-labels-idx1-ubyte.gz\n"
          ],
          "name": "stdout"
        },
        {
          "output_type": "display_data",
          "data": {
            "application/vnd.jupyter.widget-view+json": {
              "model_id": "a534882db836419a8c7e75859c42b274",
              "version_minor": 0,
              "version_major": 2
            },
            "text/plain": [
              "HBox(children=(IntProgress(value=1, bar_style='info', max=1), HTML(value='')))"
            ]
          },
          "metadata": {
            "tags": []
          }
        },
        {
          "output_type": "stream",
          "text": [
            "\n",
            "Extracting /files/MNIST/raw/t10k-labels-idx1-ubyte.gz to /files/MNIST/raw\n",
            "Processing...\n",
            "Done!\n"
          ],
          "name": "stdout"
        }
      ]
    },
    {
      "cell_type": "code",
      "metadata": {
        "id": "IzqAA1jqoECu",
        "colab_type": "code",
        "colab": {}
      },
      "source": [
        "examples = enumerate(test_loader)\n",
        "batch_idx, (example_data, example_targets) = next(examples)"
      ],
      "execution_count": 0,
      "outputs": []
    },
    {
      "cell_type": "code",
      "metadata": {
        "id": "Io8-YlaUoNkz",
        "colab_type": "code",
        "outputId": "09446355-efa4-4297-fb44-cceae2e470f2",
        "colab": {
          "base_uri": "https://localhost:8080/",
          "height": 34
        }
      },
      "source": [
        "example_data.shape"
      ],
      "execution_count": 5,
      "outputs": [
        {
          "output_type": "execute_result",
          "data": {
            "text/plain": [
              "torch.Size([1000, 1, 28, 28])"
            ]
          },
          "metadata": {
            "tags": []
          },
          "execution_count": 5
        }
      ]
    },
    {
      "cell_type": "code",
      "metadata": {
        "id": "5VT92X2hoPvX",
        "colab_type": "code",
        "outputId": "9a33b80b-25a6-4db4-8530-f1832fec5fb0",
        "colab": {
          "base_uri": "https://localhost:8080/",
          "height": 551
        }
      },
      "source": [
        "import matplotlib.pyplot as plt\n",
        "\n",
        "fig = plt.figure()\n",
        "for i in range(6):\n",
        "  plt.subplot(2,3,i+1)\n",
        "  plt.tight_layout()\n",
        "  plt.imshow(example_data[i][0], cmap='gray', interpolation='none')\n",
        "  plt.title(\"Ground Truth: {}\".format(example_targets[i]))\n",
        "  plt.xticks([])\n",
        "  plt.yticks([])\n",
        "fig"
      ],
      "execution_count": 6,
      "outputs": [
        {
          "output_type": "execute_result",
          "data": {
            "image/png": "[encoded data removed]",
            "text/plain": [
              "<Figure size 432x288 with 6 Axes>"
            ]
          },
          "metadata": {
            "tags": []
          },
          "execution_count": 6
        },
        {
          "output_type": "display_data",
          "data": {
            "image/png": "[encoded data removed]",
            "text/plain": [
              "<Figure size 432x288 with 6 Axes>"
            ]
          },
          "metadata": {
            "tags": []
          }
        }
      ]
    },
    {
      "cell_type": "code",
      "metadata": {
        "id": "0O4AWAYwoYrW",
        "colab_type": "code",
        "colab": {}
      },
      "source": [
        "import torch.nn as nn\n",
        "import torch.nn.functional as F\n",
        "import torch.optim as optim"
      ],
      "execution_count": 0,
      "outputs": []
    },
    {
      "cell_type": "code",
      "metadata": {
        "id": "NdrxQpZzo42S",
        "colab_type": "code",
        "colab": {}
      },
      "source": [
        "class Net(nn.Module):\n",
        "    def __init__(self):\n",
        "        super(Net, self).__init__()\n",
        "        self.conv1 = nn.Conv2d(1, 10, kernel_size=5)\n",
        "        self.conv2 = nn.Conv2d(10, 20, kernel_size=5)\n",
        "        self.conv2_drop = nn.Dropout2d()\n",
        "        self.fc1 = nn.Linear(320, 50)\n",
        "        self.fc2 = nn.Linear(50, 10)\n",
        "\n",
        "    def forward(self, x):\n",
        "        x = F.relu(F.max_pool2d(self.conv1(x), 2))\n",
        "        x = F.relu(F.max_pool2d(self.conv2_drop(self.conv2(x)), 2))\n",
        "        x = x.view(-1, 320)\n",
        "        x = F.relu(self.fc1(x))\n",
        "        x = F.dropout(x, training=self.training)\n",
        "        x = self.fc2(x)\n",
        "        return F.log_softmax(x)"
      ],
      "execution_count": 0,
      "outputs": []
    },
    {
      "cell_type": "code",
      "metadata": {
        "id": "7VnLxo6DpAvG",
        "colab_type": "code",
        "colab": {}
      },
      "source": [
        "network = Net()\n",
        "optimizer = optim.SGD(network.parameters(), lr=learning_rate,\n",
        "                      momentum=momentum)"
      ],
      "execution_count": 0,
      "outputs": []
    },
    {
      "cell_type": "code",
      "metadata": {
        "id": "Z7JhXMMXpDW2",
        "colab_type": "code",
        "colab": {}
      },
      "source": [
        "train_losses = []\n",
        "train_counter = []\n",
        "test_losses = []\n",
        "test_counter = [i*len(train_loader.dataset) for i in range(n_epochs + 1)]"
      ],
      "execution_count": 0,
      "outputs": []
    },
    {
      "cell_type": "code",
      "metadata": {
        "id": "cSXSulgnpG04",
        "colab_type": "code",
        "colab": {}
      },
      "source": [
        "def train(epoch):\n",
        "  network.train()\n",
        "  for batch_idx, (data, target) in enumerate(train_loader):\n",
        "    optimizer.zero_grad()\n",
        "    output = network(data)\n",
        "    loss = F.nll_loss(output, target)\n",
        "    loss.backward()\n",
        "    optimizer.step()\n",
        "    if batch_idx % log_interval == 0:\n",
        "      print('Train Epoch: {} [{}/{} ({:.0f}%)]\\tLoss: {:.6f}'.format(\n",
        "        epoch, batch_idx * len(data), len(train_loader.dataset),\n",
        "        100. * batch_idx / len(train_loader), loss.item()))\n",
        "      train_losses.append(loss.item())\n",
        "      train_counter.append(\n",
        "        (batch_idx*64) + ((epoch-1)*len(train_loader.dataset)))\n"
      ],
      "execution_count": 0,
      "outputs": []
    },
    {
      "cell_type": "code",
      "metadata": {
        "id": "FR1woue6pMNk",
        "colab_type": "code",
        "colab": {}
      },
      "source": [
        "def test():\n",
        "  network.eval()\n",
        "  test_loss = 0\n",
        "  correct = 0\n",
        "  with torch.no_grad():\n",
        "    for data, target in test_loader:\n",
        "      output = network(data)\n",
        "      test_loss += F.nll_loss(output, target, size_average=False).item()\n",
        "      pred = output.data.max(1, keepdim=True)[1]\n",
        "      correct += pred.eq(target.data.view_as(pred)).sum()\n",
        "  test_loss /= len(test_loader.dataset)\n",
        "  test_losses.append(test_loss)\n",
        "  print('\\nTest set: Avg. loss: {:.4f}, Accuracy: {}/{} ({:.0f}%)\\n'.format(\n",
        "    test_loss, correct, len(test_loader.dataset),\n",
        "    100. * correct / len(test_loader.dataset)))"
      ],
      "execution_count": 0,
      "outputs": []
    },
    {
      "cell_type": "code",
      "metadata": {
        "id": "elo84U3ppOpy",
        "colab_type": "code",
        "outputId": "c4ae4fde-86ee-426c-9585-a545dac118eb",
        "colab": {
          "base_uri": "https://localhost:8080/",
          "height": 1000
        }
      },
      "source": [
        "test()\n",
        "for epoch in range(1, n_epochs + 1):\n",
        "  train(epoch)\n",
        "  test()"
      ],
      "execution_count": 13,
      "outputs": [
        {
          "output_type": "stream",
          "text": [
            "/usr/local/lib/python3.6/dist-packages/ipykernel_launcher.py:17: UserWarning: Implicit dimension choice for log_softmax has been deprecated. Change the call to include dim=X as an argument.\n",
            "/usr/local/lib/python3.6/dist-packages/torch/nn/_reduction.py:43: UserWarning: size_average and reduce args will be deprecated, please use reduction='sum' instead.\n",
            "  warnings.warn(warning.format(ret))\n"
          ],
          "name": "stderr"
        },
        {
          "output_type": "stream",
          "text": [
            "\n",
            "Test set: Avg. loss: 2.3004, Accuracy: 751/10000 (8%)\n",
            "\n",
            "Train Epoch: 1 [0/60000 (0%)]\tLoss: 2.268458\n",
            "Train Epoch: 1 [640/60000 (1%)]\tLoss: 2.268337\n",
            "Train Epoch: 1 [1280/60000 (2%)]\tLoss: 2.273999\n",
            "Train Epoch: 1 [1920/60000 (3%)]\tLoss: 2.251667\n",
            "Train Epoch: 1 [2560/60000 (4%)]\tLoss: 2.236732\n",
            "Train Epoch: 1 [3200/60000 (5%)]\tLoss: 2.223633\n",
            "Train Epoch: 1 [3840/60000 (6%)]\tLoss: 2.152995\n",
            "Train Epoch: 1 [4480/60000 (7%)]\tLoss: 2.095961\n",
            "Train Epoch: 1 [5120/60000 (9%)]\tLoss: 1.974665\n",
            "Train Epoch: 1 [5760/60000 (10%)]\tLoss: 1.946313\n",
            "Train Epoch: 1 [6400/60000 (11%)]\tLoss: 1.841838\n",
            "Train Epoch: 1 [7040/60000 (12%)]\tLoss: 1.768894\n",
            "Train Epoch: 1 [7680/60000 (13%)]\tLoss: 1.699719\n",
            "Train Epoch: 1 [8320/60000 (14%)]\tLoss: 1.687801\n",
            "Train Epoch: 1 [8960/60000 (15%)]\tLoss: 1.507810\n",
            "Train Epoch: 1 [9600/60000 (16%)]\tLoss: 1.388498\n",
            "Train Epoch: 1 [10240/60000 (17%)]\tLoss: 1.293032\n",
            "Train Epoch: 1 [10880/60000 (18%)]\tLoss: 1.319774\n",
            "Train Epoch: 1 [11520/60000 (19%)]\tLoss: 1.285128\n",
            "Train Epoch: 1 [12160/60000 (20%)]\tLoss: 1.240654\n",
            "Train Epoch: 1 [12800/60000 (21%)]\tLoss: 0.926595\n",
            "Train Epoch: 1 [13440/60000 (22%)]\tLoss: 1.399390\n",
            "Train Epoch: 1 [14080/60000 (23%)]\tLoss: 0.956938\n",
            "Train Epoch: 1 [14720/60000 (25%)]\tLoss: 1.107641\n",
            "Train Epoch: 1 [15360/60000 (26%)]\tLoss: 0.950740\n",
            "Train Epoch: 1 [16000/60000 (27%)]\tLoss: 1.050467\n",
            "Train Epoch: 1 [16640/60000 (28%)]\tLoss: 0.937663\n",
            "Train Epoch: 1 [17280/60000 (29%)]\tLoss: 0.818802\n",
            "Train Epoch: 1 [17920/60000 (30%)]\tLoss: 1.123294\n",
            "Train Epoch: 1 [18560/60000 (31%)]\tLoss: 0.647303\n",
            "Train Epoch: 1 [19200/60000 (32%)]\tLoss: 0.932275\n",
            "Train Epoch: 1 [19840/60000 (33%)]\tLoss: 0.779703\n",
            "Train Epoch: 1 [20480/60000 (34%)]\tLoss: 0.799004\n",
            "Train Epoch: 1 [21120/60000 (35%)]\tLoss: 0.760863\n",
            "Train Epoch: 1 [21760/60000 (36%)]\tLoss: 0.952453\n",
            "Train Epoch: 1 [22400/60000 (37%)]\tLoss: 0.623389\n",
            "Train Epoch: 1 [23040/60000 (38%)]\tLoss: 0.859539\n",
            "Train Epoch: 1 [23680/60000 (39%)]\tLoss: 0.653811\n",
            "Train Epoch: 1 [24320/60000 (41%)]\tLoss: 0.808242\n",
            "Train Epoch: 1 [24960/60000 (42%)]\tLoss: 0.820590\n",
            "Train Epoch: 1 [25600/60000 (43%)]\tLoss: 0.773173\n",
            "Train Epoch: 1 [26240/60000 (44%)]\tLoss: 0.722616\n",
            "Train Epoch: 1 [26880/60000 (45%)]\tLoss: 0.749771\n",
            "Train Epoch: 1 [27520/60000 (46%)]\tLoss: 0.711575\n",
            "Train Epoch: 1 [28160/60000 (47%)]\tLoss: 0.775711\n",
            "Train Epoch: 1 [28800/60000 (48%)]\tLoss: 0.700247\n",
            "Train Epoch: 1 [29440/60000 (49%)]\tLoss: 0.659871\n",
            "Train Epoch: 1 [30080/60000 (50%)]\tLoss: 1.026214\n",
            "Train Epoch: 1 [30720/60000 (51%)]\tLoss: 0.665271\n",
            "Train Epoch: 1 [31360/60000 (52%)]\tLoss: 0.910657\n",
            "Train Epoch: 1 [32000/60000 (53%)]\tLoss: 0.723925\n",
            "Train Epoch: 1 [32640/60000 (54%)]\tLoss: 0.694834\n",
            "Train Epoch: 1 [33280/60000 (55%)]\tLoss: 0.562707\n",
            "Train Epoch: 1 [33920/60000 (57%)]\tLoss: 0.463706\n",
            "Train Epoch: 1 [34560/60000 (58%)]\tLoss: 0.762532\n",
            "Train Epoch: 1 [35200/60000 (59%)]\tLoss: 0.468022\n",
            "Train Epoch: 1 [35840/60000 (60%)]\tLoss: 0.756034\n",
            "Train Epoch: 1 [36480/60000 (61%)]\tLoss: 0.343257\n",
            "Train Epoch: 1 [37120/60000 (62%)]\tLoss: 0.394606\n",
            "Train Epoch: 1 [37760/60000 (63%)]\tLoss: 0.578171\n",
            "Train Epoch: 1 [38400/60000 (64%)]\tLoss: 0.720754\n",
            "Train Epoch: 1 [39040/60000 (65%)]\tLoss: 0.430551\n",
            "Train Epoch: 1 [39680/60000 (66%)]\tLoss: 0.489382\n",
            "Train Epoch: 1 [40320/60000 (67%)]\tLoss: 0.589460\n",
            "Train Epoch: 1 [40960/60000 (68%)]\tLoss: 0.453257\n",
            "Train Epoch: 1 [41600/60000 (69%)]\tLoss: 0.404894\n",
            "Train Epoch: 1 [42240/60000 (70%)]\tLoss: 0.596156\n",
            "Train Epoch: 1 [42880/60000 (71%)]\tLoss: 0.607688\n",
            "Train Epoch: 1 [43520/60000 (72%)]\tLoss: 0.588488\n",
            "Train Epoch: 1 [44160/60000 (74%)]\tLoss: 0.492924\n",
            "Train Epoch: 1 [44800/60000 (75%)]\tLoss: 0.593121\n",
            "Train Epoch: 1 [45440/60000 (76%)]\tLoss: 0.684591\n",
            "Train Epoch: 1 [46080/60000 (77%)]\tLoss: 0.546380\n",
            "Train Epoch: 1 [46720/60000 (78%)]\tLoss: 0.888387\n",
            "Train Epoch: 1 [47360/60000 (79%)]\tLoss: 0.382606\n",
            "Train Epoch: 1 [48000/60000 (80%)]\tLoss: 0.460586\n",
            "Train Epoch: 1 [48640/60000 (81%)]\tLoss: 0.342228\n",
            "Train Epoch: 1 [49280/60000 (82%)]\tLoss: 0.585143\n",
            "Train Epoch: 1 [49920/60000 (83%)]\tLoss: 0.371191\n",
            "Train Epoch: 1 [50560/60000 (84%)]\tLoss: 0.374881\n",
            "Train Epoch: 1 [51200/60000 (85%)]\tLoss: 0.800026\n",
            "Train Epoch: 1 [51840/60000 (86%)]\tLoss: 0.456075\n",
            "Train Epoch: 1 [52480/60000 (87%)]\tLoss: 0.646992\n",
            "Train Epoch: 1 [53120/60000 (88%)]\tLoss: 0.755943\n",
            "Train Epoch: 1 [53760/60000 (90%)]\tLoss: 0.567843\n",
            "Train Epoch: 1 [54400/60000 (91%)]\tLoss: 0.447274\n",
            "Train Epoch: 1 [55040/60000 (92%)]\tLoss: 0.699521\n",
            "Train Epoch: 1 [55680/60000 (93%)]\tLoss: 0.477469\n",
            "Train Epoch: 1 [56320/60000 (94%)]\tLoss: 0.545586\n",
            "Train Epoch: 1 [56960/60000 (95%)]\tLoss: 0.563355\n",
            "Train Epoch: 1 [57600/60000 (96%)]\tLoss: 0.332393\n",
            "Train Epoch: 1 [58240/60000 (97%)]\tLoss: 0.480226\n",
            "Train Epoch: 1 [58880/60000 (98%)]\tLoss: 0.334084\n",
            "Train Epoch: 1 [59520/60000 (99%)]\tLoss: 0.487243\n",
            "\n",
            "Test set: Avg. loss: 0.1980, Accuracy: 9439/10000 (94%)\n",
            "\n",
            "Train Epoch: 2 [0/60000 (0%)]\tLoss: 0.559057\n",
            "Train Epoch: 2 [640/60000 (1%)]\tLoss: 0.310884\n",
            "Train Epoch: 2 [1280/60000 (2%)]\tLoss: 0.377171\n",
            "Train Epoch: 2 [1920/60000 (3%)]\tLoss: 0.292481\n",
            "Train Epoch: 2 [2560/60000 (4%)]\tLoss: 0.452967\n",
            "Train Epoch: 2 [3200/60000 (5%)]\tLoss: 0.685729\n",
            "Train Epoch: 2 [3840/60000 (6%)]\tLoss: 0.533222\n",
            "Train Epoch: 2 [4480/60000 (7%)]\tLoss: 0.444672\n",
            "Train Epoch: 2 [5120/60000 (9%)]\tLoss: 0.383373\n",
            "Train Epoch: 2 [5760/60000 (10%)]\tLoss: 0.474883\n",
            "Train Epoch: 2 [6400/60000 (11%)]\tLoss: 0.529965\n",
            "Train Epoch: 2 [7040/60000 (12%)]\tLoss: 0.400795\n",
            "Train Epoch: 2 [7680/60000 (13%)]\tLoss: 0.316960\n",
            "Train Epoch: 2 [8320/60000 (14%)]\tLoss: 0.358206\n",
            "Train Epoch: 2 [8960/60000 (15%)]\tLoss: 0.412069\n",
            "Train Epoch: 2 [9600/60000 (16%)]\tLoss: 0.389247\n",
            "Train Epoch: 2 [10240/60000 (17%)]\tLoss: 0.403751\n",
            "Train Epoch: 2 [10880/60000 (18%)]\tLoss: 0.593479\n",
            "Train Epoch: 2 [11520/60000 (19%)]\tLoss: 0.556706\n",
            "Train Epoch: 2 [12160/60000 (20%)]\tLoss: 0.511984\n",
            "Train Epoch: 2 [12800/60000 (21%)]\tLoss: 0.392728\n",
            "Train Epoch: 2 [13440/60000 (22%)]\tLoss: 0.490136\n",
            "Train Epoch: 2 [14080/60000 (23%)]\tLoss: 0.367191\n",
            "Train Epoch: 2 [14720/60000 (25%)]\tLoss: 0.339645\n",
            "Train Epoch: 2 [15360/60000 (26%)]\tLoss: 0.547813\n",
            "Train Epoch: 2 [16000/60000 (27%)]\tLoss: 0.387943\n",
            "Train Epoch: 2 [16640/60000 (28%)]\tLoss: 0.521189\n",
            "Train Epoch: 2 [17280/60000 (29%)]\tLoss: 0.388059\n",
            "Train Epoch: 2 [17920/60000 (30%)]\tLoss: 0.358521\n",
            "Train Epoch: 2 [18560/60000 (31%)]\tLoss: 0.379687\n",
            "Train Epoch: 2 [19200/60000 (32%)]\tLoss: 0.473633\n",
            "Train Epoch: 2 [19840/60000 (33%)]\tLoss: 0.341019\n",
            "Train Epoch: 2 [20480/60000 (34%)]\tLoss: 0.411892\n",
            "Train Epoch: 2 [21120/60000 (35%)]\tLoss: 0.710548\n",
            "Train Epoch: 2 [21760/60000 (36%)]\tLoss: 0.410636\n",
            "Train Epoch: 2 [22400/60000 (37%)]\tLoss: 0.418257\n",
            "Train Epoch: 2 [23040/60000 (38%)]\tLoss: 0.461458\n",
            "Train Epoch: 2 [23680/60000 (39%)]\tLoss: 0.426976\n",
            "Train Epoch: 2 [24320/60000 (41%)]\tLoss: 0.339727\n",
            "Train Epoch: 2 [24960/60000 (42%)]\tLoss: 0.340897\n",
            "Train Epoch: 2 [25600/60000 (43%)]\tLoss: 0.446224\n",
            "Train Epoch: 2 [26240/60000 (44%)]\tLoss: 0.333637\n",
            "Train Epoch: 2 [26880/60000 (45%)]\tLoss: 0.437485\n",
            "Train Epoch: 2 [27520/60000 (46%)]\tLoss: 0.378763\n",
            "Train Epoch: 2 [28160/60000 (47%)]\tLoss: 0.320471\n",
            "Train Epoch: 2 [28800/60000 (48%)]\tLoss: 0.469764\n",
            "Train Epoch: 2 [29440/60000 (49%)]\tLoss: 0.431682\n",
            "Train Epoch: 2 [30080/60000 (50%)]\tLoss: 0.631180\n",
            "Train Epoch: 2 [30720/60000 (51%)]\tLoss: 0.317573\n",
            "Train Epoch: 2 [31360/60000 (52%)]\tLoss: 0.380599\n",
            "Train Epoch: 2 [32000/60000 (53%)]\tLoss: 0.452410\n",
            "Train Epoch: 2 [32640/60000 (54%)]\tLoss: 0.352374\n",
            "Train Epoch: 2 [33280/60000 (55%)]\tLoss: 0.276690\n",
            "Train Epoch: 2 [33920/60000 (57%)]\tLoss: 0.358022\n",
            "Train Epoch: 2 [34560/60000 (58%)]\tLoss: 0.425866\n",
            "Train Epoch: 2 [35200/60000 (59%)]\tLoss: 0.621419\n",
            "Train Epoch: 2 [35840/60000 (60%)]\tLoss: 0.249580\n",
            "Train Epoch: 2 [36480/60000 (61%)]\tLoss: 0.501516\n",
            "Train Epoch: 2 [37120/60000 (62%)]\tLoss: 0.402242\n",
            "Train Epoch: 2 [37760/60000 (63%)]\tLoss: 0.353723\n",
            "Train Epoch: 2 [38400/60000 (64%)]\tLoss: 0.224114\n",
            "Train Epoch: 2 [39040/60000 (65%)]\tLoss: 0.303376\n",
            "Train Epoch: 2 [39680/60000 (66%)]\tLoss: 0.380823\n",
            "Train Epoch: 2 [40320/60000 (67%)]\tLoss: 0.359393\n",
            "Train Epoch: 2 [40960/60000 (68%)]\tLoss: 0.371502\n",
            "Train Epoch: 2 [41600/60000 (69%)]\tLoss: 0.328498\n",
            "Train Epoch: 2 [42240/60000 (70%)]\tLoss: 0.182630\n",
            "Train Epoch: 2 [42880/60000 (71%)]\tLoss: 0.221621\n",
            "Train Epoch: 2 [43520/60000 (72%)]\tLoss: 0.366281\n",
            "Train Epoch: 2 [44160/60000 (74%)]\tLoss: 0.370500\n",
            "Train Epoch: 2 [44800/60000 (75%)]\tLoss: 0.469016\n",
            "Train Epoch: 2 [45440/60000 (76%)]\tLoss: 0.472862\n",
            "Train Epoch: 2 [46080/60000 (77%)]\tLoss: 0.392467\n",
            "Train Epoch: 2 [46720/60000 (78%)]\tLoss: 0.261744\n",
            "Train Epoch: 2 [47360/60000 (79%)]\tLoss: 0.283461\n",
            "Train Epoch: 2 [48000/60000 (80%)]\tLoss: 0.464692\n",
            "Train Epoch: 2 [48640/60000 (81%)]\tLoss: 0.367842\n",
            "Train Epoch: 2 [49280/60000 (82%)]\tLoss: 0.365041\n",
            "Train Epoch: 2 [49920/60000 (83%)]\tLoss: 0.318666\n",
            "Train Epoch: 2 [50560/60000 (84%)]\tLoss: 0.295981\n",
            "Train Epoch: 2 [51200/60000 (85%)]\tLoss: 0.458832\n",
            "Train Epoch: 2 [51840/60000 (86%)]\tLoss: 0.192532\n",
            "Train Epoch: 2 [52480/60000 (87%)]\tLoss: 0.399427\n",
            "Train Epoch: 2 [53120/60000 (88%)]\tLoss: 0.409851\n",
            "Train Epoch: 2 [53760/60000 (90%)]\tLoss: 0.273924\n",
            "Train Epoch: 2 [54400/60000 (91%)]\tLoss: 0.323510\n",
            "Train Epoch: 2 [55040/60000 (92%)]\tLoss: 0.371922\n",
            "Train Epoch: 2 [55680/60000 (93%)]\tLoss: 0.661229\n",
            "Train Epoch: 2 [56320/60000 (94%)]\tLoss: 0.325610\n",
            "Train Epoch: 2 [56960/60000 (95%)]\tLoss: 0.579769\n",
            "Train Epoch: 2 [57600/60000 (96%)]\tLoss: 0.405269\n",
            "Train Epoch: 2 [58240/60000 (97%)]\tLoss: 0.275790\n",
            "Train Epoch: 2 [58880/60000 (98%)]\tLoss: 0.221355\n",
            "Train Epoch: 2 [59520/60000 (99%)]\tLoss: 0.364154\n",
            "\n",
            "Test set: Avg. loss: 0.1244, Accuracy: 9619/10000 (96%)\n",
            "\n",
            "Train Epoch: 3 [0/60000 (0%)]\tLoss: 0.253137\n",
            "Train Epoch: 3 [640/60000 (1%)]\tLoss: 0.309269\n",
            "Train Epoch: 3 [1280/60000 (2%)]\tLoss: 0.386005\n",
            "Train Epoch: 3 [1920/60000 (3%)]\tLoss: 0.260399\n",
            "Train Epoch: 3 [2560/60000 (4%)]\tLoss: 0.388703\n",
            "Train Epoch: 3 [3200/60000 (5%)]\tLoss: 0.464647\n",
            "Train Epoch: 3 [3840/60000 (6%)]\tLoss: 0.398174\n",
            "Train Epoch: 3 [4480/60000 (7%)]\tLoss: 0.161889\n",
            "Train Epoch: 3 [5120/60000 (9%)]\tLoss: 0.236862\n",
            "Train Epoch: 3 [5760/60000 (10%)]\tLoss: 0.443986\n",
            "Train Epoch: 3 [6400/60000 (11%)]\tLoss: 0.352506\n",
            "Train Epoch: 3 [7040/60000 (12%)]\tLoss: 0.275825\n",
            "Train Epoch: 3 [7680/60000 (13%)]\tLoss: 0.368704\n",
            "Train Epoch: 3 [8320/60000 (14%)]\tLoss: 0.239204\n",
            "Train Epoch: 3 [8960/60000 (15%)]\tLoss: 0.426360\n",
            "Train Epoch: 3 [9600/60000 (16%)]\tLoss: 0.379916\n",
            "Train Epoch: 3 [10240/60000 (17%)]\tLoss: 0.412637\n",
            "Train Epoch: 3 [10880/60000 (18%)]\tLoss: 0.316987\n",
            "Train Epoch: 3 [11520/60000 (19%)]\tLoss: 0.281061\n",
            "Train Epoch: 3 [12160/60000 (20%)]\tLoss: 0.470365\n",
            "Train Epoch: 3 [12800/60000 (21%)]\tLoss: 0.281713\n",
            "Train Epoch: 3 [13440/60000 (22%)]\tLoss: 0.202809\n",
            "Train Epoch: 3 [14080/60000 (23%)]\tLoss: 0.201816\n",
            "Train Epoch: 3 [14720/60000 (25%)]\tLoss: 0.302645\n",
            "Train Epoch: 3 [15360/60000 (26%)]\tLoss: 0.200010\n",
            "Train Epoch: 3 [16000/60000 (27%)]\tLoss: 0.395206\n",
            "Train Epoch: 3 [16640/60000 (28%)]\tLoss: 0.270201\n",
            "Train Epoch: 3 [17280/60000 (29%)]\tLoss: 0.469924\n",
            "Train Epoch: 3 [17920/60000 (30%)]\tLoss: 0.253805\n",
            "Train Epoch: 3 [18560/60000 (31%)]\tLoss: 0.174972\n",
            "Train Epoch: 3 [19200/60000 (32%)]\tLoss: 0.568463\n",
            "Train Epoch: 3 [19840/60000 (33%)]\tLoss: 0.241803\n",
            "Train Epoch: 3 [20480/60000 (34%)]\tLoss: 0.328363\n",
            "Train Epoch: 3 [21120/60000 (35%)]\tLoss: 0.338649\n",
            "Train Epoch: 3 [21760/60000 (36%)]\tLoss: 0.269283\n",
            "Train Epoch: 3 [22400/60000 (37%)]\tLoss: 0.307970\n",
            "Train Epoch: 3 [23040/60000 (38%)]\tLoss: 0.420801\n",
            "Train Epoch: 3 [23680/60000 (39%)]\tLoss: 0.311486\n",
            "Train Epoch: 3 [24320/60000 (41%)]\tLoss: 0.337010\n",
            "Train Epoch: 3 [24960/60000 (42%)]\tLoss: 0.149965\n",
            "Train Epoch: 3 [25600/60000 (43%)]\tLoss: 0.295103\n",
            "Train Epoch: 3 [26240/60000 (44%)]\tLoss: 0.461099\n",
            "Train Epoch: 3 [26880/60000 (45%)]\tLoss: 0.244325\n",
            "Train Epoch: 3 [27520/60000 (46%)]\tLoss: 0.382468\n",
            "Train Epoch: 3 [28160/60000 (47%)]\tLoss: 0.238359\n",
            "Train Epoch: 3 [28800/60000 (48%)]\tLoss: 0.156952\n",
            "Train Epoch: 3 [29440/60000 (49%)]\tLoss: 0.194602\n",
            "Train Epoch: 3 [30080/60000 (50%)]\tLoss: 0.216393\n",
            "Train Epoch: 3 [30720/60000 (51%)]\tLoss: 0.316932\n",
            "Train Epoch: 3 [31360/60000 (52%)]\tLoss: 0.345078\n",
            "Train Epoch: 3 [32000/60000 (53%)]\tLoss: 0.298335\n",
            "Train Epoch: 3 [32640/60000 (54%)]\tLoss: 0.339199\n",
            "Train Epoch: 3 [33280/60000 (55%)]\tLoss: 0.341799\n",
            "Train Epoch: 3 [33920/60000 (57%)]\tLoss: 0.181250\n",
            "Train Epoch: 3 [34560/60000 (58%)]\tLoss: 0.314138\n",
            "Train Epoch: 3 [35200/60000 (59%)]\tLoss: 0.151367\n",
            "Train Epoch: 3 [35840/60000 (60%)]\tLoss: 0.331571\n",
            "Train Epoch: 3 [36480/60000 (61%)]\tLoss: 0.181655\n",
            "Train Epoch: 3 [37120/60000 (62%)]\tLoss: 0.404374\n",
            "Train Epoch: 3 [37760/60000 (63%)]\tLoss: 0.291496\n",
            "Train Epoch: 3 [38400/60000 (64%)]\tLoss: 0.180886\n",
            "Train Epoch: 3 [39040/60000 (65%)]\tLoss: 0.346182\n",
            "Train Epoch: 3 [39680/60000 (66%)]\tLoss: 0.134988\n",
            "Train Epoch: 3 [40320/60000 (67%)]\tLoss: 0.283705\n",
            "Train Epoch: 3 [40960/60000 (68%)]\tLoss: 0.317734\n",
            "Train Epoch: 3 [41600/60000 (69%)]\tLoss: 0.149579\n",
            "Train Epoch: 3 [42240/60000 (70%)]\tLoss: 0.193652\n",
            "Train Epoch: 3 [42880/60000 (71%)]\tLoss: 0.216612\n",
            "Train Epoch: 3 [43520/60000 (72%)]\tLoss: 0.241367\n",
            "Train Epoch: 3 [44160/60000 (74%)]\tLoss: 0.324680\n",
            "Train Epoch: 3 [44800/60000 (75%)]\tLoss: 0.221722\n",
            "Train Epoch: 3 [45440/60000 (76%)]\tLoss: 0.230654\n",
            "Train Epoch: 3 [46080/60000 (77%)]\tLoss: 0.270351\n",
            "Train Epoch: 3 [46720/60000 (78%)]\tLoss: 0.463411\n",
            "Train Epoch: 3 [47360/60000 (79%)]\tLoss: 0.370251\n",
            "Train Epoch: 3 [48000/60000 (80%)]\tLoss: 0.421346\n",
            "Train Epoch: 3 [48640/60000 (81%)]\tLoss: 0.217236\n",
            "Train Epoch: 3 [49280/60000 (82%)]\tLoss: 0.149875\n",
            "Train Epoch: 3 [49920/60000 (83%)]\tLoss: 0.475683\n",
            "Train Epoch: 3 [50560/60000 (84%)]\tLoss: 0.287805\n",
            "Train Epoch: 3 [51200/60000 (85%)]\tLoss: 0.239957\n",
            "Train Epoch: 3 [51840/60000 (86%)]\tLoss: 0.226635\n",
            "Train Epoch: 3 [52480/60000 (87%)]\tLoss: 0.209620\n",
            "Train Epoch: 3 [53120/60000 (88%)]\tLoss: 0.240016\n",
            "Train Epoch: 3 [53760/60000 (90%)]\tLoss: 0.404718\n",
            "Train Epoch: 3 [54400/60000 (91%)]\tLoss: 0.434397\n",
            "Train Epoch: 3 [55040/60000 (92%)]\tLoss: 0.290272\n",
            "Train Epoch: 3 [55680/60000 (93%)]\tLoss: 0.261985\n",
            "Train Epoch: 3 [56320/60000 (94%)]\tLoss: 0.322559\n",
            "Train Epoch: 3 [56960/60000 (95%)]\tLoss: 0.311690\n",
            "Train Epoch: 3 [57600/60000 (96%)]\tLoss: 0.164203\n",
            "Train Epoch: 3 [58240/60000 (97%)]\tLoss: 0.100966\n",
            "Train Epoch: 3 [58880/60000 (98%)]\tLoss: 0.183424\n",
            "Train Epoch: 3 [59520/60000 (99%)]\tLoss: 0.339536\n",
            "\n",
            "Test set: Avg. loss: 0.0915, Accuracy: 9726/10000 (97%)\n",
            "\n"
          ],
          "name": "stdout"
        }
      ]
    },
    {
      "cell_type": "code",
      "metadata": {
        "id": "RrCAUi_tpRo2",
        "colab_type": "code",
        "outputId": "c19b13eb-c683-4536-84a8-25306339a6df",
        "colab": {
          "base_uri": "https://localhost:8080/",
          "height": 52
        }
      },
      "source": [
        "from keras.datasets import mnist\n",
        "(train_images,train_label)  ,(test_images,test_labels)=mnist.load_data()"
      ],
      "execution_count": 0,
      "outputs": [
        {
          "output_type": "stream",
          "text": [
            "Downloading data from https://s3.amazonaws.com/img-datasets/mnist.npz\n",
            "11493376/11490434 [==============================] - 0s 0us/step\n"
          ],
          "name": "stdout"
        }
      ]
    },
    {
      "cell_type": "code",
      "metadata": {
        "id": "oFtBKE-BHC8Z",
        "colab_type": "code",
        "outputId": "c5886cef-f3d2-4bac-9476-55166ca6b3a4",
        "colab": {
          "base_uri": "https://localhost:8080/",
          "height": 34
        }
      },
      "source": [
        "train_images.shape"
      ],
      "execution_count": 0,
      "outputs": [
        {
          "output_type": "execute_result",
          "data": {
            "text/plain": [
              "(60000, 28, 28)"
            ]
          },
          "metadata": {
            "tags": []
          },
          "execution_count": 2
        }
      ]
    },
    {
      "cell_type": "code",
      "metadata": {
        "id": "VEdMZYOOHHxr",
        "colab_type": "code",
        "colab": {}
      },
      "source": [
        "my_slice=train_images[:,7:-7,7:-7]"
      ],
      "execution_count": 0,
      "outputs": []
    },
    {
      "cell_type": "code",
      "metadata": {
        "id": "CyuS7T-HHLYZ",
        "colab_type": "code",
        "outputId": "7b7aed70-955e-41b6-b3db-ee9a91ea8fdc",
        "colab": {
          "base_uri": "https://localhost:8080/",
          "height": 282
        }
      },
      "source": [
        "import matplotlib.pyplot as plt\n",
        "plt.imshow(train_images[0],cmap='gray')"
      ],
      "execution_count": 0,
      "outputs": [
        {
          "output_type": "execute_result",
          "data": {
            "text/plain": [
              "<matplotlib.image.AxesImage at 0x7fe9d7eb8ba8>"
            ]
          },
          "metadata": {
            "tags": []
          },
          "execution_count": 14
        },
        {
          "output_type": "display_data",
          "data": {
            "image/png": "[encoded data removed]",
            "text/plain": [
              "<Figure size 432x288 with 1 Axes>"
            ]
          },
          "metadata": {
            "tags": []
          }
        }
      ]
    },
    {
      "cell_type": "code",
      "metadata": {
        "id": "W_wlOv-7Htho",
        "colab_type": "code",
        "outputId": "1f0bdc47-d1d2-4e5d-ddb5-4c74bf88c66b",
        "colab": {
          "base_uri": "https://localhost:8080/",
          "height": 1000
        }
      },
      "source": [
        "train_images[0]"
      ],
      "execution_count": 0,
      "outputs": [
        {
          "output_type": "execute_result",
          "data": {
            "text/plain": [
              "array([[  0,   0,   0,   0,   0,   0,   0,   0,   0,   0,   0,   0,   0,\n",
              "          0,   0,   0,   0,   0,   0,   0,   0,   0,   0,   0,   0,   0,\n",
              "          0,   0],\n",
              "       [  0,   0,   0,   0,   0,   0,   0,   0,   0,   0,   0,   0,   0,\n",
              "          0,   0,   0,   0,   0,   0,   0,   0,   0,   0,   0,   0,   0,\n",
              "          0,   0],\n",
              "       [  0,   0,   0,   0,   0,   0,   0,   0,   0,   0,   0,   0,   0,\n",
              "          0,   0,   0,   0,   0,   0,   0,   0,   0,   0,   0,   0,   0,\n",
              "          0,   0],\n",
              "       [  0,   0,   0,   0,   0,   0,   0,   0,   0,   0,   0,   0,   0,\n",
              "          0,   0,   0,   0,   0,   0,   0,   0,   0,   0,   0,   0,   0,\n",
              "          0,   0],\n",
              "       [  0,   0,   0,   0,   0,   0,   0,   0,   0,   0,   0,   0,   0,\n",
              "          0,   0,   0,   0,   0,   0,   0,   0,   0,   0,   0,   0,   0,\n",
              "          0,   0],\n",
              "       [  0,   0,   0,   0,   0,   0,   0,   0,   0,   0,   0,   0,   3,\n",
              "         18,  18,  18, 126, 136, 175,  26, 166, 255, 247, 127,   0,   0,\n",
              "          0,   0],\n",
              "       [  0,   0,   0,   0,   0,   0,   0,   0,  30,  36,  94, 154, 170,\n",
              "        253, 253, 253, 253, 253, 225, 172, 253, 242, 195,  64,   0,   0,\n",
              "          0,   0],\n",
              "       [  0,   0,   0,   0,   0,   0,   0,  49, 238, 253, 253, 253, 253,\n",
              "        253, 253, 253, 253, 251,  93,  82,  82,  56,  39,   0,   0,   0,\n",
              "          0,   0],\n",
              "       [  0,   0,   0,   0,   0,   0,   0,  18, 219, 253, 253, 253, 253,\n",
              "        253, 198, 182, 247, 241,   0,   0,   0,   0,   0,   0,   0,   0,\n",
              "          0,   0],\n",
              "       [  0,   0,   0,   0,   0,   0,   0,   0,  80, 156, 107, 253, 253,\n",
              "        205,  11,   0,  43, 154,   0,   0,   0,   0,   0,   0,   0,   0,\n",
              "          0,   0],\n",
              "       [  0,   0,   0,   0,   0,   0,   0,   0,   0,  14,   1, 154, 253,\n",
              "         90,   0,   0,   0,   0,   0,   0,   0,   0,   0,   0,   0,   0,\n",
              "          0,   0],\n",
              "       [  0,   0,   0,   0,   0,   0,   0,   0,   0,   0,   0, 139, 253,\n",
              "        190,   2,   0,   0,   0,   0,   0,   0,   0,   0,   0,   0,   0,\n",
              "          0,   0],\n",
              "       [  0,   0,   0,   0,   0,   0,   0,   0,   0,   0,   0,  11, 190,\n",
              "        253,  70,   0,   0,   0,   0,   0,   0,   0,   0,   0,   0,   0,\n",
              "          0,   0],\n",
              "       [  0,   0,   0,   0,   0,   0,   0,   0,   0,   0,   0,   0,  35,\n",
              "        241, 225, 160, 108,   1,   0,   0,   0,   0,   0,   0,   0,   0,\n",
              "          0,   0],\n",
              "       [  0,   0,   0,   0,   0,   0,   0,   0,   0,   0,   0,   0,   0,\n",
              "         81, 240, 253, 253, 119,  25,   0,   0,   0,   0,   0,   0,   0,\n",
              "          0,   0],\n",
              "       [  0,   0,   0,   0,   0,   0,   0,   0,   0,   0,   0,   0,   0,\n",
              "          0,  45, 186, 253, 253, 150,  27,   0,   0,   0,   0,   0,   0,\n",
              "          0,   0],\n",
              "       [  0,   0,   0,   0,   0,   0,   0,   0,   0,   0,   0,   0,   0,\n",
              "          0,   0,  16,  93, 252, 253, 187,   0,   0,   0,   0,   0,   0,\n",
              "          0,   0],\n",
              "       [  0,   0,   0,   0,   0,   0,   0,   0,   0,   0,   0,   0,   0,\n",
              "          0,   0,   0,   0, 249, 253, 249,  64,   0,   0,   0,   0,   0,\n",
              "          0,   0],\n",
              "       [  0,   0,   0,   0,   0,   0,   0,   0,   0,   0,   0,   0,   0,\n",
              "          0,  46, 130, 183, 253, 253, 207,   2,   0,   0,   0,   0,   0,\n",
              "          0,   0],\n",
              "       [  0,   0,   0,   0,   0,   0,   0,   0,   0,   0,   0,   0,  39,\n",
              "        148, 229, 253, 253, 253, 250, 182,   0,   0,   0,   0,   0,   0,\n",
              "          0,   0],\n",
              "       [  0,   0,   0,   0,   0,   0,   0,   0,   0,   0,  24, 114, 221,\n",
              "        253, 253, 253, 253, 201,  78,   0,   0,   0,   0,   0,   0,   0,\n",
              "          0,   0],\n",
              "       [  0,   0,   0,   0,   0,   0,   0,   0,  23,  66, 213, 253, 253,\n",
              "        253, 253, 198,  81,   2,   0,   0,   0,   0,   0,   0,   0,   0,\n",
              "          0,   0],\n",
              "       [  0,   0,   0,   0,   0,   0,  18, 171, 219, 253, 253, 253, 253,\n",
              "        195,  80,   9,   0,   0,   0,   0,   0,   0,   0,   0,   0,   0,\n",
              "          0,   0],\n",
              "       [  0,   0,   0,   0,  55, 172, 226, 253, 253, 253, 253, 244, 133,\n",
              "         11,   0,   0,   0,   0,   0,   0,   0,   0,   0,   0,   0,   0,\n",
              "          0,   0],\n",
              "       [  0,   0,   0,   0, 136, 253, 253, 253, 212, 135, 132,  16,   0,\n",
              "          0,   0,   0,   0,   0,   0,   0,   0,   0,   0,   0,   0,   0,\n",
              "          0,   0],\n",
              "       [  0,   0,   0,   0,   0,   0,   0,   0,   0,   0,   0,   0,   0,\n",
              "          0,   0,   0,   0,   0,   0,   0,   0,   0,   0,   0,   0,   0,\n",
              "          0,   0],\n",
              "       [  0,   0,   0,   0,   0,   0,   0,   0,   0,   0,   0,   0,   0,\n",
              "          0,   0,   0,   0,   0,   0,   0,   0,   0,   0,   0,   0,   0,\n",
              "          0,   0],\n",
              "       [  0,   0,   0,   0,   0,   0,   0,   0,   0,   0,   0,   0,   0,\n",
              "          0,   0,   0,   0,   0,   0,   0,   0,   0,   0,   0,   0,   0,\n",
              "          0,   0]], dtype=uint8)"
            ]
          },
          "metadata": {
            "tags": []
          },
          "execution_count": 15
        }
      ]
    },
    {
      "cell_type": "code",
      "metadata": {
        "id": "Dfne7TgOILjw",
        "colab_type": "code",
        "colab": {}
      },
      "source": [
        ""
      ],
      "execution_count": 0,
      "outputs": []
    }
  ]
}