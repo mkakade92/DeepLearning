{
  "nbformat": 4,
  "nbformat_minor": 0,
  "metadata": {
    "colab": {
      "name": "Reuters.ipynb",
      "provenance": [],
      "authorship_tag": "ABX9TyP2kEKduEXhf5Fn46lS+Os9",
      "include_colab_link": true
    },
    "kernelspec": {
      "name": "python3",
      "display_name": "Python 3"
    },
    "accelerator": "GPU"
  },
  "cells": [
    {
      "cell_type": "markdown",
      "metadata": {
        "id": "view-in-github",
        "colab_type": "text"
      },
      "source": [
        "<a href=\"https://colab.research.google.com/github/mkakade92/DeepLearning/blob/master/Reuters.ipynb\" target=\"_parent\"><img src=\"https://colab.research.google.com/assets/colab-badge.svg\" alt=\"Open In Colab\"/></a>"
      ]
    },
    {
      "cell_type": "code",
      "metadata": {
        "id": "WCp4gj-zrR6p",
        "colab_type": "code",
        "colab": {
          "base_uri": "https://localhost:8080/",
          "height": 52
        },
        "outputId": "09af949d-4c33-4473-8005-1856a840b373"
      },
      "source": [
        "from keras.datasets import reuters\n",
        "((train_data,train_labels),(test_data,test_labels))=reuters.load_data(num_words=10000)"
      ],
      "execution_count": 1,
      "outputs": [
        {
          "output_type": "stream",
          "text": [
            "Downloading data from https://s3.amazonaws.com/text-datasets/reuters.npz\n",
            "2113536/2110848 [==============================] - 0s 0us/step\n"
          ],
          "name": "stdout"
        }
      ]
    },
    {
      "cell_type": "code",
      "metadata": {
        "id": "CMwb1bVEs2bf",
        "colab_type": "code",
        "colab": {
          "base_uri": "https://localhost:8080/",
          "height": 34
        },
        "outputId": "1a11eeff-c0ed-4bb2-bd7b-5916bddf3a64"
      },
      "source": [
        "len(train_data)"
      ],
      "execution_count": 2,
      "outputs": [
        {
          "output_type": "execute_result",
          "data": {
            "text/plain": [
              "8982"
            ]
          },
          "metadata": {
            "tags": []
          },
          "execution_count": 2
        }
      ]
    },
    {
      "cell_type": "code",
      "metadata": {
        "id": "lw5SVaqfs4XT",
        "colab_type": "code",
        "colab": {
          "base_uri": "https://localhost:8080/",
          "height": 34
        },
        "outputId": "ccac6aa1-a461-41eb-f6e1-151e32f5a6e7"
      },
      "source": [
        "len(test_data)"
      ],
      "execution_count": 3,
      "outputs": [
        {
          "output_type": "execute_result",
          "data": {
            "text/plain": [
              "2246"
            ]
          },
          "metadata": {
            "tags": []
          },
          "execution_count": 3
        }
      ]
    },
    {
      "cell_type": "code",
      "metadata": {
        "id": "nUpXjDtjs6RZ",
        "colab_type": "code",
        "colab": {}
      },
      "source": [
        "import numpy as np\n",
        "\n",
        "def vectorize(seq,dim=10000):\n",
        "  results=np.zeros((len(seq),dim))\n",
        "  for i,seq in enumerate(seq):\n",
        "    results[i,seq]=1\n",
        "  return results"
      ],
      "execution_count": 0,
      "outputs": []
    },
    {
      "cell_type": "code",
      "metadata": {
        "id": "WC7poL7QtUs4",
        "colab_type": "code",
        "colab": {}
      },
      "source": [
        "x_train=vectorize(train_data)\n",
        "\n",
        "y_train=vectorize(test_data)\n"
      ],
      "execution_count": 0,
      "outputs": []
    },
    {
      "cell_type": "code",
      "metadata": {
        "id": "A9DbHxDEtksG",
        "colab_type": "code",
        "colab": {
          "base_uri": "https://localhost:8080/",
          "height": 34
        },
        "outputId": "82a7a78f-cfb4-4e6c-e4d3-3ad78fcd3f3e"
      },
      "source": [
        "x_train[0]"
      ],
      "execution_count": 10,
      "outputs": [
        {
          "output_type": "execute_result",
          "data": {
            "text/plain": [
              "array([0., 1., 1., ..., 0., 0., 0.])"
            ]
          },
          "metadata": {
            "tags": []
          },
          "execution_count": 10
        }
      ]
    },
    {
      "cell_type": "code",
      "metadata": {
        "id": "gITVAybWtpNN",
        "colab_type": "code",
        "colab": {}
      },
      "source": [
        "#One Hot Encodeing labels\n",
        "from keras.utils.np_utils import to_categorical\n",
        "\n",
        "x_label=to_categorical(train_labels)\n",
        "y_label=to_categorical(test_labels)\n",
        "\n"
      ],
      "execution_count": 0,
      "outputs": []
    },
    {
      "cell_type": "code",
      "metadata": {
        "id": "qSj8JW3lt4mF",
        "colab_type": "code",
        "colab": {
          "base_uri": "https://localhost:8080/",
          "height": 69
        },
        "outputId": "d79c1722-1975-4cab-8481-3596e72d0620"
      },
      "source": [
        "x_label[0]"
      ],
      "execution_count": 14,
      "outputs": [
        {
          "output_type": "execute_result",
          "data": {
            "text/plain": [
              "array([0., 0., 0., 1., 0., 0., 0., 0., 0., 0., 0., 0., 0., 0., 0., 0., 0.,\n",
              "       0., 0., 0., 0., 0., 0., 0., 0., 0., 0., 0., 0., 0., 0., 0., 0., 0.,\n",
              "       0., 0., 0., 0., 0., 0., 0., 0., 0., 0., 0., 0.], dtype=float32)"
            ]
          },
          "metadata": {
            "tags": []
          },
          "execution_count": 14
        }
      ]
    },
    {
      "cell_type": "code",
      "metadata": {
        "id": "U0n9GVFPuawh",
        "colab_type": "code",
        "colab": {
          "base_uri": "https://localhost:8080/",
          "height": 106
        },
        "outputId": "e4454c0e-29f8-49ca-b21f-830de6df1852"
      },
      "source": [
        "from keras import models\n",
        "from keras import layers\n",
        "\n",
        "model=models.Sequential()\n",
        "model.add(layers.Dense(512,activation='relu',input_shape=(10000,)))\n",
        "model.add(layers.Dense(128,activation='relu'))\n",
        "model.add(layers.Dense(64,activation='relu'))\n",
        "model.add(layers.Dense(46,activation='softmax'))"
      ],
      "execution_count": 17,
      "outputs": [
        {
          "output_type": "stream",
          "text": [
            "WARNING:tensorflow:From /usr/local/lib/python3.6/dist-packages/keras/backend/tensorflow_backend.py:541: The name tf.placeholder is deprecated. Please use tf.compat.v1.placeholder instead.\n",
            "\n",
            "WARNING:tensorflow:From /usr/local/lib/python3.6/dist-packages/keras/backend/tensorflow_backend.py:4432: The name tf.random_uniform is deprecated. Please use tf.random.uniform instead.\n",
            "\n"
          ],
          "name": "stdout"
        }
      ]
    },
    {
      "cell_type": "code",
      "metadata": {
        "id": "CI09OB4nvG9Q",
        "colab_type": "code",
        "colab": {
          "base_uri": "https://localhost:8080/",
          "height": 106
        },
        "outputId": "0fe807c1-b0cd-46ae-f2c9-489c2695394b"
      },
      "source": [
        "model.compile(optimizer='rmsprop',\n",
        "loss='categorical_crossentropy',\n",
        "metrics=['accuracy'])"
      ],
      "execution_count": 18,
      "outputs": [
        {
          "output_type": "stream",
          "text": [
            "WARNING:tensorflow:From /usr/local/lib/python3.6/dist-packages/keras/optimizers.py:793: The name tf.train.Optimizer is deprecated. Please use tf.compat.v1.train.Optimizer instead.\n",
            "\n",
            "WARNING:tensorflow:From /usr/local/lib/python3.6/dist-packages/keras/backend/tensorflow_backend.py:3576: The name tf.log is deprecated. Please use tf.math.log instead.\n",
            "\n"
          ],
          "name": "stdout"
        }
      ]
    },
    {
      "cell_type": "code",
      "metadata": {
        "id": "KwoS2emDvY8z",
        "colab_type": "code",
        "colab": {}
      },
      "source": [
        "x_val = x_train[:1000]\n",
        "partial_x_train = x_train[1000:]\n",
        "y_val = x_label[:1000]\n",
        "partial_y_train = x_label[1000:]"
      ],
      "execution_count": 0,
      "outputs": []
    },
    {
      "cell_type": "code",
      "metadata": {
        "id": "F3T2bElwvbZT",
        "colab_type": "code",
        "colab": {
          "base_uri": "https://localhost:8080/",
          "height": 382
        },
        "outputId": "0be847f9-46e1-4971-b90f-2e8e4ba099b2"
      },
      "source": [
        "history = model.fit(partial_x_train,\n",
        "                    partial_y_train,\n",
        "                    epochs=10,\n",
        "                    batch_size=512,\n",
        "                    validation_data=(x_val, y_val))"
      ],
      "execution_count": 24,
      "outputs": [
        {
          "output_type": "stream",
          "text": [
            "Train on 7982 samples, validate on 1000 samples\n",
            "Epoch 1/10\n",
            "7982/7982 [==============================] - 1s 73us/step - loss: 0.2936 - acc: 0.9354 - val_loss: 1.3270 - val_acc: 0.7350\n",
            "Epoch 2/10\n",
            "7982/7982 [==============================] - 1s 74us/step - loss: 0.2291 - acc: 0.9412 - val_loss: 0.9913 - val_acc: 0.8000\n",
            "Epoch 3/10\n",
            "7982/7982 [==============================] - 1s 73us/step - loss: 0.1799 - acc: 0.9533 - val_loss: 0.9801 - val_acc: 0.8190\n",
            "Epoch 4/10\n",
            "7982/7982 [==============================] - 1s 75us/step - loss: 0.1754 - acc: 0.9508 - val_loss: 0.9972 - val_acc: 0.8060\n",
            "Epoch 5/10\n",
            "7982/7982 [==============================] - 1s 74us/step - loss: 0.1451 - acc: 0.9555 - val_loss: 1.0565 - val_acc: 0.8070\n",
            "Epoch 6/10\n",
            "7982/7982 [==============================] - 1s 74us/step - loss: 0.1307 - acc: 0.9549 - val_loss: 1.2938 - val_acc: 0.7590\n",
            "Epoch 7/10\n",
            "7982/7982 [==============================] - 1s 75us/step - loss: 0.1306 - acc: 0.9535 - val_loss: 1.0884 - val_acc: 0.8110\n",
            "Epoch 8/10\n",
            "7982/7982 [==============================] - 1s 73us/step - loss: 0.1141 - acc: 0.9563 - val_loss: 1.1093 - val_acc: 0.7920\n",
            "Epoch 9/10\n",
            "7982/7982 [==============================] - 1s 75us/step - loss: 0.1176 - acc: 0.9548 - val_loss: 1.0952 - val_acc: 0.8030\n",
            "Epoch 10/10\n",
            "7982/7982 [==============================] - 1s 75us/step - loss: 0.1047 - acc: 0.9574 - val_loss: 1.0944 - val_acc: 0.8050\n"
          ],
          "name": "stdout"
        }
      ]
    },
    {
      "cell_type": "code",
      "metadata": {
        "id": "ZrU1zbJZvm_g",
        "colab_type": "code",
        "colab": {
          "base_uri": "https://localhost:8080/",
          "height": 295
        },
        "outputId": "eb0f0701-018f-41d9-929f-472528a683ac"
      },
      "source": [
        "import matplotlib.pyplot as plt\n",
        "loss = history.history['loss']\n",
        "val_loss = history.history['val_loss']\n",
        "epochs = range(1, len(loss) + 1)\n",
        "plt.plot(epochs, loss, 'bo', label='Training loss')\n",
        "plt.plot(epochs, val_loss, 'b', label='Validation loss')\n",
        "plt.title('Training and validation loss')\n",
        "plt.xlabel('Epochs')\n",
        "plt.ylabel('Loss')\n",
        "plt.legend()\n",
        "plt.show()"
      ],
      "execution_count": 25,
      "outputs": [
        {
          "output_type": "display_data",
          "data": {
            "image/png": "[encoded data removed]",
            "text/plain": [
              "<Figure size 432x288 with 1 Axes>"
            ]
          },
          "metadata": {
            "tags": []
          }
        }
      ]
    },
    {
      "cell_type": "code",
      "metadata": {
        "id": "kdICheauwDp4",
        "colab_type": "code",
        "colab": {
          "base_uri": "https://localhost:8080/",
          "height": 295
        },
        "outputId": "585d0764-01ac-4f0c-a107-350d46a32fa9"
      },
      "source": [
        "plt.clf()\n",
        "acc = history.history['acc']\n",
        "val_acc = history.history['val_acc']\n",
        "plt.plot(epochs, acc, 'bo', label='Training acc')\n",
        "plt.plot(epochs, val_acc, 'b', label='Validation acc')\n",
        "plt.title('Training and validation accuracy')\n",
        "plt.xlabel('Epochs')\n",
        "plt.ylabel('Loss')\n",
        "plt.legend()\n",
        "plt.show()"
      ],
      "execution_count": 26,
      "outputs": [
        {
          "output_type": "display_data",
          "data": {
            "image/png": "[encoded data removed]",
            "text/plain": [
              "<Figure size 432x288 with 1 Axes>"
            ]
          },
          "metadata": {
            "tags": []
          }
        }
      ]
    },
    {
      "cell_type": "code",
      "metadata": {
        "id": "oBOtpO9hwKzh",
        "colab_type": "code",
        "colab": {
          "base_uri": "https://localhost:8080/",
          "height": 364
        },
        "outputId": "f010cfc3-6db7-434c-85d7-c0e93126e515"
      },
      "source": [
        "model = models.Sequential()\n",
        "model.add(layers.Dense(64, activation='relu', input_shape=(10000,)))\n",
        "model.add(layers.Dense(64, activation='relu'))\n",
        "model.add(layers.Dense(46, activation='softmax'))\n",
        "model.compile(optimizer='rmsprop',\n",
        "loss='categorical_crossentropy',\n",
        "metrics=['accuracy'])\n",
        "model.fit(partial_x_train,\n",
        "          partial_y_train,\n",
        "          epochs=9,\n",
        "          batch_size=512,\n",
        "          validation_data=(x_val, y_val))\n",
        "results = model.evaluate(y_train, y_label)"
      ],
      "execution_count": 28,
      "outputs": [
        {
          "output_type": "stream",
          "text": [
            "Train on 7982 samples, validate on 1000 samples\n",
            "Epoch 1/9\n",
            "7982/7982 [==============================] - 1s 92us/step - loss: 2.6174 - acc: 0.5499 - val_loss: 1.7111 - val_acc: 0.6570\n",
            "Epoch 2/9\n",
            "7982/7982 [==============================] - 1s 64us/step - loss: 1.4121 - acc: 0.7103 - val_loss: 1.3112 - val_acc: 0.7010\n",
            "Epoch 3/9\n",
            "7982/7982 [==============================] - 1s 65us/step - loss: 1.0471 - acc: 0.7765 - val_loss: 1.1449 - val_acc: 0.7570\n",
            "Epoch 4/9\n",
            "7982/7982 [==============================] - 1s 63us/step - loss: 0.8248 - acc: 0.8207 - val_loss: 1.0539 - val_acc: 0.7800\n",
            "Epoch 5/9\n",
            "7982/7982 [==============================] - 1s 65us/step - loss: 0.6585 - acc: 0.8568 - val_loss: 0.9915 - val_acc: 0.7880\n",
            "Epoch 6/9\n",
            "7982/7982 [==============================] - 1s 64us/step - loss: 0.5270 - acc: 0.8894 - val_loss: 0.9319 - val_acc: 0.8090\n",
            "Epoch 7/9\n",
            "7982/7982 [==============================] - 1s 64us/step - loss: 0.4244 - acc: 0.9121 - val_loss: 0.9309 - val_acc: 0.8150\n",
            "Epoch 8/9\n",
            "7982/7982 [==============================] - 1s 63us/step - loss: 0.3429 - acc: 0.9265 - val_loss: 0.9209 - val_acc: 0.8170\n",
            "Epoch 9/9\n",
            "7982/7982 [==============================] - 1s 64us/step - loss: 0.2858 - acc: 0.9351 - val_loss: 0.8991 - val_acc: 0.8250\n",
            "2246/2246 [==============================] - 0s 83us/step\n"
          ],
          "name": "stdout"
        }
      ]
    },
    {
      "cell_type": "code",
      "metadata": {
        "id": "NhtJBTb0wWBK",
        "colab_type": "code",
        "colab": {
          "base_uri": "https://localhost:8080/",
          "height": 34
        },
        "outputId": "dabfd933-242f-4e7f-960d-260c7669af75"
      },
      "source": [
        "results"
      ],
      "execution_count": 29,
      "outputs": [
        {
          "output_type": "execute_result",
          "data": {
            "text/plain": [
              "[0.9932698029444246, 0.7898486197950154]"
            ]
          },
          "metadata": {
            "tags": []
          },
          "execution_count": 29
        }
      ]
    },
    {
      "cell_type": "code",
      "metadata": {
        "id": "Q0SbmNTYwnqA",
        "colab_type": "code",
        "colab": {}
      },
      "source": [
        ""
      ],
      "execution_count": 0,
      "outputs": []
    }
  ]
}